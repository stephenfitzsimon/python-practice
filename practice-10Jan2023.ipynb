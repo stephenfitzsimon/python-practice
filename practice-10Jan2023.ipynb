{
 "cells": [
  {
   "cell_type": "code",
   "execution_count": 2,
   "id": "955af9f6-a577-4cf9-b38a-ce007ed4c356",
   "metadata": {},
   "outputs": [
    {
     "data": {
      "text/plain": [
       "(True, True, False, False)"
      ]
     },
     "execution_count": 2,
     "metadata": {},
     "output_type": "execute_result"
    }
   ],
   "source": [
    "def palindrome(string):\n",
    "    return all([a == b for a, b in zip(string, string[::-1])])\n",
    "\n",
    "palindrome(\"tacocat\"), palindrome(\"racecar\"), palindrome(\"stand\"), palindrome(\"laptop\")"
   ]
  },
  {
   "cell_type": "code",
   "execution_count": 18,
   "id": "032335a2-1a68-4bdb-836e-00f8423e709c",
   "metadata": {},
   "outputs": [
    {
     "data": {
      "text/plain": [
       "'CDEFG'"
      ]
     },
     "execution_count": 18,
     "metadata": {},
     "output_type": "execute_result"
    }
   ],
   "source": [
    "def ceasarCipher(string, shift):\n",
    "    string = string.upper()\n",
    "    return ''.join([chr((ord(c)-65+shift)%26+65) for c in string])\n",
    "\n",
    "ceasarCipher(\"abcde\", 2)"
   ]
  },
  {
   "cell_type": "code",
   "execution_count": null,
   "id": "78727570-7f05-47b5-8ad7-248a43f8d789",
   "metadata": {},
   "outputs": [],
   "source": []
  }
 ],
 "metadata": {
  "kernelspec": {
   "display_name": "Python 3 (ipykernel)",
   "language": "python",
   "name": "python3"
  },
  "language_info": {
   "codemirror_mode": {
    "name": "ipython",
    "version": 3
   },
   "file_extension": ".py",
   "mimetype": "text/x-python",
   "name": "python",
   "nbconvert_exporter": "python",
   "pygments_lexer": "ipython3",
   "version": "3.9.12"
  }
 },
 "nbformat": 4,
 "nbformat_minor": 5
}
